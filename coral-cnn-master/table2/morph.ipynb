{
 "cells": [
  {
   "cell_type": "markdown",
   "metadata": {},
   "source": [
    "# Inconsistency Table (MORPH)"
   ]
  },
  {
   "cell_type": "code",
   "execution_count": 1,
   "metadata": {},
   "outputs": [],
   "source": [
    "%load_ext watermark"
   ]
  },
  {
   "cell_type": "code",
   "execution_count": 2,
   "metadata": {},
   "outputs": [
    {
     "name": "stdout",
     "output_type": "stream",
     "text": [
      "Sebastian Raschka \n",
      "\n",
      "torch 1.5.1\n",
      "numpy 1.18.1\n",
      "pandas 1.0.1\n"
     ]
    }
   ],
   "source": [
    "watermark -a 'Sebastian Raschka' -p torch,numpy,pandas"
   ]
  },
  {
   "cell_type": "code",
   "execution_count": 3,
   "metadata": {},
   "outputs": [],
   "source": [
    "import torch\n",
    "import numpy as np\n",
    "import pandas as pd\n",
    "import os"
   ]
  },
  {
   "cell_type": "code",
   "execution_count": 4,
   "metadata": {},
   "outputs": [],
   "source": [
    "def count_inconsistency(ary):\n",
    "    cnt = 0\n",
    "    last = ary[0]\n",
    "    for i in ary[1:]:\n",
    "        if i > last + 1e-05:\n",
    "            cnt += 1\n",
    "        last = i\n",
    "    return cnt\n",
    "\n",
    "\n",
    "def read_labels_from_log(path):\n",
    "    with open(path, 'r') as f:\n",
    "        cont = f.read()\n",
    "    return np.array(cont.split(',')).astype(int)"
   ]
  },
  {
   "cell_type": "code",
   "execution_count": 5,
   "metadata": {},
   "outputs": [],
   "source": [
    "basepath = '../experiment-logs/morph2'\n",
    "morph_test_path = '../datasets/morph2_test.csv'"
   ]
  },
  {
   "cell_type": "code",
   "execution_count": 6,
   "metadata": {},
   "outputs": [
    {
     "data": {
      "text/plain": [
       "array([ 6, 16, 38, 29, 30, 29, 19, 28, 11,  5, 21,  7, 15,  1, 22])"
      ]
     },
     "execution_count": 6,
     "metadata": {},
     "output_type": "execute_result"
    }
   ],
   "source": [
    "morph_test_labels = pd.read_csv(morph_test_path, usecols=['age']).values.reshape(-1)\n",
    "morph_test_labels[:15]"
   ]
  },
  {
   "cell_type": "code",
   "execution_count": 7,
   "metadata": {},
   "outputs": [
    {
     "name": "stdout",
     "output_type": "stream",
     "text": [
      "Average Inconsistency Seed 0: 0.00\n",
      "Average Inconsistency Seed 1: 0.00\n",
      "Average Inconsistency Seed 2: 0.00\n"
     ]
    }
   ],
   "source": [
    "# Coral\n",
    "\n",
    "for i in range(3):\n",
    "    \n",
    "    morph_ordinal_path = os.path.join(basepath, f'morph-coral__seed{i}')\n",
    "    \n",
    "    test_proba_path_seed00 = os.path.join(morph_ordinal_path, 'test_allprobas.tensor')\n",
    "    t = torch.load(test_proba_path_seed00)\n",
    "\n",
    "    inconsistency_counts = [count_inconsistency(t[i]) for i in range(t.size()[0])]\n",
    "    avg = np.mean(inconsistency_counts)\n",
    "    print(f'Average Inconsistency Seed {i}: {avg:.2f}')\n",
    "    "
   ]
  },
  {
   "cell_type": "code",
   "execution_count": 8,
   "metadata": {},
   "outputs": [
    {
     "name": "stdout",
     "output_type": "stream",
     "text": [
      "Average Inconsistency Seed 0: 2.28\n",
      "Average Inconsistency Seed 1: 2.08\n",
      "Average Inconsistency Seed 2: 0.86\n"
     ]
    }
   ],
   "source": [
    "# Ordinal\n",
    "\n",
    "for i in range(3):\n",
    "    \n",
    "    morph_ordinal_path = os.path.join(basepath, f'morph-ordinal__seed{i}')\n",
    "    \n",
    "    test_proba_path_seed00 = os.path.join(morph_ordinal_path, 'test_allprobas.tensor')\n",
    "    t = torch.load(test_proba_path_seed00)\n",
    "\n",
    "    inconsistency_counts = [count_inconsistency(t[i]) for i in range(t.size()[0])]\n",
    "    avg = np.mean(inconsistency_counts)\n",
    "    print(f'Average Inconsistency Seed {i}: {avg:.2f}')\n",
    "    "
   ]
  },
  {
   "cell_type": "code",
   "execution_count": 9,
   "metadata": {},
   "outputs": [
    {
     "name": "stdout",
     "output_type": "stream",
     "text": [
      "Seed 00 when correct: 1.80\n",
      "Seed 00 when incorrect: 2.37\n",
      "Seed 01 when correct: 1.70\n",
      "Seed 01 when incorrect: 2.15\n",
      "Seed 02 when correct: 0.65\n",
      "Seed 02 when incorrect: 0.89\n"
     ]
    }
   ],
   "source": [
    "for i in range(0, 3):\n",
    "\n",
    "    when_correct_cnt = []\n",
    "    when_incorrect_cnt = []\n",
    "    \n",
    "    morph_ordinal_path = os.path.join(basepath, f'morph-ordinal__seed{i}')\n",
    "\n",
    "    test_proba_path_seed = os.path.join(morph_ordinal_path, 'test_allprobas.tensor')\n",
    "    t = torch.load(test_proba_path_seed)\n",
    "    \n",
    "    test_proba_path = os.path.join(morph_ordinal_path, 'test_predictions.log')\n",
    "    lab = read_labels_from_log(test_proba_path)    \n",
    "    \n",
    "    for j in range(morph_test_labels.shape[0]):\n",
    "        if morph_test_labels[j] != lab[j]:\n",
    "            when_incorrect_cnt.append(count_inconsistency(t[j]))\n",
    "        else:\n",
    "            when_correct_cnt.append(count_inconsistency(t[j]))\n",
    "            \n",
    "    avg = np.mean(when_correct_cnt)\n",
    "    print(f'Seed 0{i} when correct: {avg:.2f}')\n",
    "    \n",
    "    avg = np.mean(when_incorrect_cnt)\n",
    "    print(f'Seed 0{i} when incorrect: {avg:.2f}')"
   ]
  }
 ],
 "metadata": {
  "kernelspec": {
   "display_name": "Python 3",
   "language": "python",
   "name": "python3"
  },
  "language_info": {
   "codemirror_mode": {
    "name": "ipython",
    "version": 3
   },
   "file_extension": ".py",
   "mimetype": "text/x-python",
   "name": "python",
   "nbconvert_exporter": "python",
   "pygments_lexer": "ipython3",
   "version": "3.7.1"
  }
 },
 "nbformat": 4,
 "nbformat_minor": 4
}
