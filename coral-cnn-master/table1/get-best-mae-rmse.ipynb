{
 "cells": [
  {
   "cell_type": "code",
   "execution_count": 1,
   "metadata": {},
   "outputs": [
    {
     "name": "stdout",
     "output_type": "stream",
     "text": [
      "afad-ce__seed0: 3.58/5.01\n",
      "afad-ce__seed1: 3.58/5.01\n",
      "afad-ce__seed2: 3.62/5.06\n",
      "afad-coral__seed0: 3.42/4.65\n",
      "afad-coral__seed1: 3.51/4.76\n",
      "afad-coral__seed2: 3.48/4.73\n",
      "afad-ordinal__seed0: 3.56/4.80\n",
      "afad-ordinal__seed1: 3.48/4.68\n",
      "afad-ordinal__seed2: 3.50/4.78\n",
      "cacd-ce__seed0: 5.74/8.20\n",
      "cacd-ce__seed1: 5.68/8.09\n",
      "cacd-ce__seed2: 5.53/7.92\n",
      "cacd-coral__seed0: 5.25/7.41\n",
      "cacd-coral__seed1: 5.25/7.50\n",
      "cacd-coral__seed2: 5.24/7.52\n",
      "cacd-ordinal__seed0: 5.36/7.61\n",
      "cacd-ordinal__seed1: 5.40/7.78\n",
      "cacd-ordinal__seed2: 5.37/7.70\n",
      "morph-ce__seed0: 3.26/4.62\n",
      "morph-ce__seed1: 3.36/4.77\n",
      "morph-ce__seed2: 3.39/4.84\n",
      "morph-coral__seed0: 2.66/3.69\n",
      "morph-coral__seed1: 2.64/3.64\n",
      "morph-coral__seed2: 2.62/3.63\n",
      "morph-ordinal__seed0: 2.87/4.08\n",
      "morph-ordinal__seed1: 2.81/3.97\n",
      "morph-ordinal__seed2: 2.82/3.87\n"
     ]
    }
   ],
   "source": [
    "import os\n",
    "\n",
    "\n",
    "all_results = []\n",
    "\n",
    "for root, dirs, files in os.walk('../experiment-logs'):\n",
    "    for file in files:\n",
    "        if file.endswith('training.log'):\n",
    "            with open(os.path.join(root, file), 'r') as f:\n",
    "                content = f.read().split('\\n')\n",
    "                for line in content:\n",
    "                    if line.startswith('Output Path:'):\n",
    "                        filename = line.split(': ')[-1]\n",
    "                \n",
    "                while not content[-1]:\n",
    "                    content.pop()\n",
    "                test_perf = content[-1].split(' | ')[-1].split(' ')\n",
    "                \n",
    "                all_results.append(f'{filename}: {test_perf[-1]}')\n",
    "            \n",
    "all_results.sort()\n",
    "for r in all_results:\n",
    "    print(r)"
   ]
  }
 ],
 "metadata": {
  "kernelspec": {
   "display_name": "Python 3",
   "language": "python",
   "name": "python3"
  },
  "language_info": {
   "codemirror_mode": {
    "name": "ipython",
    "version": 3
   },
   "file_extension": ".py",
   "mimetype": "text/x-python",
   "name": "python",
   "nbconvert_exporter": "python",
   "pygments_lexer": "ipython3",
   "version": "3.7.1"
  }
 },
 "nbformat": 4,
 "nbformat_minor": 4
}
