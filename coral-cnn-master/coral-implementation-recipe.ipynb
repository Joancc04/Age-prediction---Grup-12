{
 "cells": [
  {
   "cell_type": "markdown",
   "metadata": {},
   "source": [
    "# CORAL Implementation Recipe"
   ]
  },
  {
   "cell_type": "markdown",
   "metadata": {},
   "source": [
    "This notebook provides a brief overview of the relevant parts of CORAL that distinguish from a \"regular\" deep neural network for classification. The purpose of this overview is to provide a succinct resource that may help other researchers in porting the CORAL framework to other, non-PyTorch code bases (such as TensorFlow, Keras, MXnet, etc.). "
   ]
  },
  {
   "cell_type": "markdown",
   "metadata": {},
   "source": [
    "## 1) Implement a function that converts class labels"
   ]
  },
  {
   "cell_type": "markdown",
   "metadata": {},
   "source": [
    "- In contrast to regular cross entropy-based classification approaches, CORAL operates on binary tasks rather than integer class labels (or one-hot encoding representations thereof); hence, we have to convert class labels into the respective representation, which is illustrated here. \n",
    "- To provide an example, suppose you have a dataset consisting of 5 classes; consequently, the class labels are 0, 1, 2, 3, and 4.\n",
    "- The following `label_to_levels` function converts class labels into the binary task representation required by CORAL, we call them \"levels:\""
   ]
  },
  {
   "cell_type": "code",
   "execution_count": 1,
   "metadata": {},
   "outputs": [],
   "source": [
    "import torch\n",
    "\n",
    "\n",
    "def label_to_levels(label, num_classes):\n",
    "    levels = [1]*label + [0]*(num_classes - 1 - label)\n",
    "    levels = torch.tensor(levels, dtype=torch.float32)\n",
    "    return levels"
   ]
  },
  {
   "cell_type": "markdown",
   "metadata": {},
   "source": [
    "- To continue with the example, assume we have a dataset of 3 training examples with class labels 2, 1, 4\n",
    "- The converted labels would look as follows:"
   ]
  },
  {
   "cell_type": "code",
   "execution_count": 2,
   "metadata": {},
   "outputs": [
    {
     "data": {
      "text/plain": [
       "tensor([[1., 1., 0., 0.],\n",
       "        [1., 0., 0., 0.],\n",
       "        [1., 1., 1., 1.]])"
      ]
     },
     "execution_count": 2,
     "metadata": {},
     "output_type": "execute_result"
    }
   ],
   "source": [
    "NUM_CLASSES = 5\n",
    "\n",
    "levels = []\n",
    "class_labels = [2, 1, 4]\n",
    "\n",
    "for label in class_labels:\n",
    "    levels_from_label = label_to_levels(label, num_classes=NUM_CLASSES)\n",
    "    levels.append(levels_from_label)\n",
    "\n",
    "levels = torch.stack(levels)\n",
    "levels"
   ]
  },
  {
   "cell_type": "markdown",
   "metadata": {},
   "source": [
    "## 2) Implement the loss function"
   ]
  },
  {
   "cell_type": "markdown",
   "metadata": {},
   "source": [
    "As outlined in the paper, the loss function is defined as\n",
    "\n",
    "$$\n",
    "\\begin{aligned}\n",
    "L(\\mathbf{W}, \\mathbf{b})=& \\\\\n",
    "&-\\sum_{i=1}^{N} \\sum_{k=1}^{K-1} \\lambda^{(k)}\\left[\\log \\left(s\\left(g\\left(\\mathbf{x}_{i}, \\mathbf{W}\\right)+b_{k}\\right)\\right) y_{i}^{(k)}\\right.\\\\\n",
    "&\\left.+\\log \\left(1-s\\left(g\\left(\\mathbf{x}_{i}, \\mathbf{W}\\right)+b_{k}\\right)\\right)\\left(1-y_{i}^{(k)}\\right)\\right]\n",
    "\\end{aligned}\n",
    "$$"
   ]
  },
  {
   "cell_type": "markdown",
   "metadata": {},
   "source": [
    "- In the paper, we used a uniform task importance weight $\\lambda$ (this means, all binary tasks were treated equally); this can be achieved by using a vectors of 1's as the task importance weights."
   ]
  },
  {
   "cell_type": "code",
   "execution_count": 3,
   "metadata": {},
   "outputs": [],
   "source": [
    "importance_weights = torch.ones(NUM_CLASSES-1, dtype=torch.float)"
   ]
  },
  {
   "cell_type": "markdown",
   "metadata": {},
   "source": [
    "- The loss function itself, based on the equation above, can be implemented as follows:"
   ]
  },
  {
   "cell_type": "code",
   "execution_count": 4,
   "metadata": {},
   "outputs": [],
   "source": [
    "import torch.nn.functional as F\n",
    "\n",
    "\n",
    "def loss_fn1(logits, levels, imp):\n",
    "    val =  -torch.sum((torch.log(torch.sigmoid(logits))*levels + \n",
    "             torch.log(1 - torch.sigmoid(logits))*(1-levels))*imp,\n",
    "           dim=1)\n",
    "    return torch.mean(val)    "
   ]
  },
  {
   "cell_type": "markdown",
   "metadata": {},
   "source": [
    "- To apply it to a concrete example, we use the previous \"levels\" and some made-up logit values (these logits values would be the neural network outputs).\n",
    "- Note that the rows represent the training examples, whereas the columns represent the logit value for each binary task:"
   ]
  },
  {
   "cell_type": "code",
   "execution_count": 5,
   "metadata": {},
   "outputs": [],
   "source": [
    "logits = torch.tensor([[2.1, 1.8, -2.1, -1.8],\n",
    "                       [1.9, -1., -1.5, -1.3],\n",
    "                       [1.9, 1.8, 1.7, 1.6]])"
   ]
  },
  {
   "cell_type": "code",
   "execution_count": 6,
   "metadata": {},
   "outputs": [
    {
     "data": {
      "text/plain": [
       "tensor(0.6920)"
      ]
     },
     "execution_count": 6,
     "metadata": {},
     "output_type": "execute_result"
    }
   ],
   "source": [
    "loss_fn1(logits=logits, \n",
    "         levels=levels,\n",
    "         imp=importance_weights)"
   ]
  },
  {
   "cell_type": "markdown",
   "metadata": {},
   "source": [
    "In practice, we found the loss function can be numerically more stable if we rewrite \n",
    "\n",
    "\n",
    "(1) \n",
    "\n",
    "```python\n",
    "torch.log(torch.sigmoid(logits))*levels\n",
    "```\n",
    "\n",
    "as \n",
    "\n",
    "```python \n",
    "F.logsigmoid(logits)*levels\n",
    "```\n",
    "\n",
    "and (2)\n",
    "\n",
    "```python \n",
    "torch.log(1 - torch.sigmoid(logits))*(1-levels)\n",
    "```\n",
    "\n",
    "as \n",
    "\n",
    "```python \n",
    "(F.logsigmoid(logits) - logits)*(1-levels)\n",
    "```\n",
    "\n",
    "Note that (2) if valid since\n",
    "\n",
    "$$\n",
    "\\begin{aligned}\n",
    "log\\bigg(\\frac{e^x}{1+e^x}\\bigg) - x &= log\\bigg(\\frac{e^x}{1+e^x}\\bigg) - log(e^x)\\\\\n",
    "&= log\\bigg(\\frac{1}{1+e^x}\\bigg)\\\\\n",
    "&= log\\bigg(1-\\frac{e^x}{1+e^x}\\bigg)\n",
    "\\end{aligned}\n",
    "$$"
   ]
  },
  {
   "cell_type": "markdown",
   "metadata": {},
   "source": [
    "- Hence, in practice, we recommend using the following loss function (which produces the same results as the one outlined above):"
   ]
  },
  {
   "cell_type": "code",
   "execution_count": 7,
   "metadata": {},
   "outputs": [],
   "source": [
    "def loss_fn2(logits, levels, imp):\n",
    "    val = (-torch.sum((F.logsigmoid(logits)*levels\n",
    "                      + (F.logsigmoid(logits) - logits)*(1-levels))*imp,\n",
    "           dim=1))\n",
    "    return torch.mean(val)"
   ]
  },
  {
   "cell_type": "code",
   "execution_count": 8,
   "metadata": {},
   "outputs": [
    {
     "data": {
      "text/plain": [
       "tensor(0.6920)"
      ]
     },
     "execution_count": 8,
     "metadata": {},
     "output_type": "execute_result"
    }
   ],
   "source": [
    "loss_fn2(logits=logits, \n",
    "         levels=levels,\n",
    "         imp=importance_weights)"
   ]
  },
  {
   "cell_type": "markdown",
   "metadata": {},
   "source": [
    "## 3) Modify the neural network architecture"
   ]
  },
  {
   "cell_type": "markdown",
   "metadata": {},
   "source": [
    "The modification that has to be made to an existing deep neural network classifier is relatively simple as it only affects the last layer (i.e., output layer). In particular, the last fully connected layer has to be changed.\n",
    "\n",
    "In PyTorch, this means \n",
    "\n",
    "(1) changing the last fully connected layer\n",
    "\n",
    "```python\n",
    "...\n",
    "self.fc = nn.Linear(input_size, num_classes)\n",
    "```\n",
    "\n",
    "to\n",
    "\n",
    "```python\n",
    "...\n",
    "self.fc = nn.Linear(input_size, 1, bias=False)\n",
    "self.linear_1_bias = nn.Parameter(torch.zeros(self.num_classes-1).float())\n",
    "```\n",
    "\n",
    "(2) and changing the forward pass from\n",
    "\n",
    "```python\n",
    "...\n",
    "logits = self.fc(x)\n",
    "probas = F.softmax(logits, dim=1)\n",
    "return logits, probas\n",
    "```\n",
    "        \n",
    "to\n",
    "\n",
    "```python\n",
    "logits = self.fc(x) + self.linear_1_bias\n",
    "probas = torch.sigmoid(logits)\n",
    "return logits, probas\n",
    "```"
   ]
  },
  {
   "cell_type": "markdown",
   "metadata": {},
   "source": [
    "### Test with pre-defined weights"
   ]
  },
  {
   "cell_type": "markdown",
   "metadata": {},
   "source": [
    "- Below is an example that can be used to test the implementation given some pre-defined weights (these are usually randomly initialized in a real application) and layer inputs."
   ]
  },
  {
   "cell_type": "code",
   "execution_count": 9,
   "metadata": {},
   "outputs": [
    {
     "name": "stdout",
     "output_type": "stream",
     "text": [
      "Logits:\n",
      "1st training example: tensor([-0.5699, -0.5699, -0.5699, -0.5699], grad_fn=<SelectBackward>)\n",
      "2nd training example: tensor([-0.5699, -0.5699, -0.5699, -0.5699], grad_fn=<SelectBackward>)\n",
      "\n",
      "\n",
      "Probas:\n",
      "1st training example: tensor([0.3613, 0.3613, 0.3613, 0.3613], grad_fn=<SelectBackward>)\n",
      "2nd training example: tensor([0.3613, 0.3613, 0.3613, 0.3613], grad_fn=<SelectBackward>)\n"
     ]
    }
   ],
   "source": [
    "num_classes = 5\n",
    "\n",
    "###################################################\n",
    "# initialize fully connected layer without bias\n",
    "fc = torch.nn.Linear(10, 1, bias=False)\n",
    "\n",
    "# overwrite weight for reproducibility\n",
    "fc.weight = torch.nn.Parameter(\n",
    "             torch.tensor([[ 0.3019, -0.1284, \n",
    "                            -0.2542, -0.0886,  \n",
    "                            0.1354,  0.1257, \n",
    "                            -0.2183, -0.2714,\n",
    "                            -0.1859,  0.0035]], \n",
    "                          requires_grad=True)\n",
    ")\n",
    "####################################################\n",
    "\n",
    "# Initialize bias\n",
    "linear_1_bias = torch.nn.Parameter(torch.zeros(num_classes-1).float())\n",
    "\n",
    "# Initialize 2 random training layer inputs\n",
    "example_inputs = torch.tensor([[0.2769, 0.5538, 0.8187, 0.5455, \n",
    "                                0.3085, 0.7225, 0.7978, 0.8664, 0.2754, 0.5541],\n",
    "                               [0.4267, 0.5409, 0.2538, 0.1381, \n",
    "                                0.3889, 0.7500, 0.0249, 0.1347, 0.0494, 0.0935]])\n",
    "\n",
    "# Compute outputs\n",
    "logits = fc(example_inputs) + linear_1_bias\n",
    "probas = torch.sigmoid(logits)\n",
    "\n",
    "print('Logits:')\n",
    "print('1st training example:', logits[0])\n",
    "print('2nd training example:', logits[0])\n",
    "\n",
    "print('\\n\\nProbas:')\n",
    "print('1st training example:', probas[0])\n",
    "print('2nd training example:', probas[0])"
   ]
  },
  {
   "cell_type": "markdown",
   "metadata": {},
   "source": [
    "- Note that for each of the 2 training examples, the values are the same for all output units, because the network hasn't learned the bias parameter, yet. Assuming the learned bias parameter vector is [0, 1, 2, 3], you should see different outputs:"
   ]
  },
  {
   "cell_type": "code",
   "execution_count": 10,
   "metadata": {},
   "outputs": [
    {
     "name": "stdout",
     "output_type": "stream",
     "text": [
      "Logits:\n",
      "1st training example: tensor([-0.5699,  0.4301,  1.4301,  2.4301], grad_fn=<SelectBackward>)\n",
      "2nd training example: tensor([-0.5699,  0.4301,  1.4301,  2.4301], grad_fn=<SelectBackward>)\n",
      "\n",
      "\n",
      "Probas:\n",
      "1st training example: tensor([0.3613, 0.6059, 0.8069, 0.9191], grad_fn=<SelectBackward>)\n",
      "2nd training example: tensor([0.3613, 0.6059, 0.8069, 0.9191], grad_fn=<SelectBackward>)\n"
     ]
    }
   ],
   "source": [
    "linear_1_bias = torch.nn.Parameter(torch.tensor([0., 1., 2., 3.]))\n",
    "logits = fc(example_inputs) + linear_1_bias\n",
    "probas = torch.sigmoid(logits)\n",
    "\n",
    "print('Logits:')\n",
    "print('1st training example:', logits[0])\n",
    "print('2nd training example:', logits[0])\n",
    "\n",
    "print('\\n\\nProbas:')\n",
    "print('1st training example:', probas[0])\n",
    "print('2nd training example:', probas[0])"
   ]
  },
  {
   "cell_type": "markdown",
   "metadata": {},
   "source": [
    "## 4) Evaluate the neural network"
   ]
  },
  {
   "cell_type": "markdown",
   "metadata": {},
   "source": [
    "Computing performance metrics such as the mean absolute error, or simply obtaining class labels, requires a small modification. Whereas in cross entropy-based classifiers, we obtain the class labels via\n",
    "\n",
    "```python\n",
    "logits, probas = model(features)\n",
    "_, predicted_labels = torch.max(probas, 1)\n",
    "```\n",
    "\n",
    "we can change these lines to\n",
    "\n",
    "```python\n",
    "logits, probas = model(features)\n",
    "predict_levels = probas > 0.5\n",
    "predicted_labels = torch.sum(predict_levels, dim=1)\n",
    "```\n",
    "\n",
    "in CORAL."
   ]
  },
  {
   "cell_type": "markdown",
   "metadata": {},
   "source": [
    "Based on the `probas` from the example above, *4) Evaluate the neural network*, we can compute the predicted labels as follows:"
   ]
  },
  {
   "cell_type": "code",
   "execution_count": 19,
   "metadata": {},
   "outputs": [
    {
     "data": {
      "text/plain": [
       "tensor([3, 4])"
      ]
     },
     "execution_count": 19,
     "metadata": {},
     "output_type": "execute_result"
    }
   ],
   "source": [
    "predict_levels = probas > 0.5\n",
    "predicted_labels = torch.sum(predict_levels, dim=1)\n",
    "predicted_labels"
   ]
  },
  {
   "cell_type": "markdown",
   "metadata": {},
   "source": [
    "## 5) Example Run and Code Checks"
   ]
  },
  {
   "cell_type": "markdown",
   "metadata": {},
   "source": [
    "- Below is an example running the CORAL layer in a very simple convolutional neural network on MNIST.\n",
    "- Note that MNIST is not an ordinal classification task; however, we use it here for simplicity, since it's a dataset that is built into most deep learning frameworks already and serves as a good start for debugging."
   ]
  },
  {
   "cell_type": "code",
   "execution_count": 12,
   "metadata": {},
   "outputs": [
    {
     "name": "stdout",
     "output_type": "stream",
     "text": [
      "Image batch dimensions: torch.Size([128, 1, 28, 28])\n",
      "Image label dimensions: torch.Size([128])\n"
     ]
    }
   ],
   "source": [
    "from torchvision import datasets\n",
    "from torchvision import transforms\n",
    "from torch.utils.data import DataLoader\n",
    "\n",
    "##########################\n",
    "### SETTINGS\n",
    "##########################\n",
    "\n",
    "# Hyperparameters\n",
    "random_seed = 1\n",
    "learning_rate = 0.05\n",
    "num_epochs = 2\n",
    "batch_size = 128\n",
    "\n",
    "# Architecture\n",
    "NUM_CLASSES = 10\n",
    "\n",
    "# Other\n",
    "importance_weights = torch.ones(NUM_CLASSES-1, dtype=torch.float)\n",
    "\n",
    "\n",
    "##########################\n",
    "### MNIST DATASET\n",
    "##########################\n",
    "\n",
    "\n",
    "# Note transforms.ToTensor() scales input images\n",
    "# to 0-1 range\n",
    "train_dataset = datasets.MNIST(root='data', \n",
    "                               train=True, \n",
    "                               transform=transforms.ToTensor(),\n",
    "                               download=True)\n",
    "\n",
    "test_dataset = datasets.MNIST(root='data', \n",
    "                              train=False, \n",
    "                              transform=transforms.ToTensor())\n",
    "\n",
    "\n",
    "train_loader = DataLoader(dataset=train_dataset, \n",
    "                          batch_size=batch_size, \n",
    "                          drop_last=True,\n",
    "                          shuffle=True)\n",
    "\n",
    "test_loader = DataLoader(dataset=test_dataset, \n",
    "                         batch_size=batch_size, \n",
    "                         drop_last=True,\n",
    "                         shuffle=False)\n",
    "\n",
    "# Checking the dataset\n",
    "for images, labels in train_loader:  \n",
    "    print('Image batch dimensions:', images.shape)\n",
    "    print('Image label dimensions:', labels.shape)\n",
    "    break"
   ]
  },
  {
   "cell_type": "code",
   "execution_count": 13,
   "metadata": {},
   "outputs": [],
   "source": [
    "class ConvNet(torch.nn.Module):\n",
    "\n",
    "    def __init__(self, num_classes):\n",
    "        super(ConvNet, self).__init__()\n",
    "        \n",
    "        \n",
    "        self.conv_1 = torch.nn.Conv2d(in_channels=1,\n",
    "                                      out_channels=3,\n",
    "                                      kernel_size=(3, 3),\n",
    "                                      stride=(1, 1),\n",
    "                                      padding=1)\n",
    "\n",
    "        self.pool_1 = torch.nn.MaxPool2d(kernel_size=(2, 2),\n",
    "                                         stride=(2, 2),\n",
    "                                         padding=0)                                \n",
    "\n",
    "        self.conv_2 = torch.nn.Conv2d(in_channels=3,\n",
    "                                      out_channels=6,\n",
    "                                      kernel_size=(3, 3),\n",
    "                                      stride=(1, 1),\n",
    "                                      padding=1)           \n",
    "                  \n",
    "        self.pool_2 = torch.nn.MaxPool2d(kernel_size=(2, 2),\n",
    "                                         stride=(2, 2),\n",
    "                                         padding=0)\n",
    "\n",
    "        #######################\n",
    "        ##### CORAL LAYER #####\n",
    "        ###---------------------------------------------------------------------------###\n",
    "        self.fc = torch.nn.Linear(294, 1, bias=False)\n",
    "        self.linear_1_bias = torch.nn.Parameter(torch.zeros(num_classes-1).float())\n",
    "        ###---------------------------------------------------------------------------###\n",
    "\n",
    "\n",
    "        \n",
    "    def forward(self, x):\n",
    "        out = self.conv_1(x)\n",
    "        out = F.relu(out)\n",
    "        out = self.pool_1(out)\n",
    "\n",
    "        out = self.conv_2(out)\n",
    "        out = F.relu(out)\n",
    "        out = self.pool_2(out)\n",
    "        \n",
    "        # flatten\n",
    "        out = out.view(out.size(0), -1)\n",
    "        \n",
    "        #######################\n",
    "        ##### CORAL LAYER #####\n",
    "        ###--------------------------------------------------------------------###\n",
    "        logits = self.fc(out) + self.linear_1_bias\n",
    "        probas = torch.sigmoid(logits)\n",
    "        ###--------------------------------------------------------------------###\n",
    "        \n",
    "        return logits, probas\n",
    "\n",
    "    \n",
    "torch.manual_seed(random_seed)\n",
    "model = ConvNet(num_classes=NUM_CLASSES)\n",
    "\n",
    "optimizer = torch.optim.Adam(model.parameters())"
   ]
  },
  {
   "cell_type": "code",
   "execution_count": 14,
   "metadata": {},
   "outputs": [
    {
     "name": "stdout",
     "output_type": "stream",
     "text": [
      "Epoch: 001/002 | Batch 000/468 | Cost: 6.2465\n",
      "Epoch: 001/002 | Batch 150/468 | Cost: 4.8635\n",
      "Epoch: 001/002 | Batch 300/468 | Cost: 4.6088\n",
      "Epoch: 001/002 | Batch 450/468 | Cost: 3.9067\n",
      "Epoch: 002/002 | Batch 000/468 | Cost: 4.1401\n",
      "Epoch: 002/002 | Batch 150/468 | Cost: 4.0048\n",
      "Epoch: 002/002 | Batch 300/468 | Cost: 3.5715\n",
      "Epoch: 002/002 | Batch 450/468 | Cost: 3.6428\n"
     ]
    }
   ],
   "source": [
    "for epoch in range(num_epochs):\n",
    "    \n",
    "    model = model.train()\n",
    "    for batch_idx, (features, class_labels) in enumerate(train_loader):\n",
    "\n",
    "        \n",
    "        ###################################\n",
    "        ##### CORAL LABEL CONVERSION #####\n",
    "        ###------------------------------START-----------------------------------###\n",
    "        levels = []\n",
    "        for label in class_labels:\n",
    "            levels_from_label = label_to_levels(label, num_classes=NUM_CLASSES)\n",
    "            levels.append(levels_from_label)\n",
    "\n",
    "        levels = torch.stack(levels)\n",
    "        ###------------------------------END-------------------------------------###\n",
    "\n",
    "        ### FORWARD AND BACK PROP\n",
    "        logits, probas = model(features)\n",
    "        \n",
    "        \n",
    "        ###################################\n",
    "        ##### CORAL LOSS ##################\n",
    "        ###------------------------------START-----------------------------------###  \n",
    "        cost = loss_fn2(logits, levels, imp=importance_weights)\n",
    "        ###------------------------------END-------------------------------------###        \n",
    "        \n",
    "        \n",
    "        optimizer.zero_grad()\n",
    "        cost.backward()\n",
    "        \n",
    "        ### UPDATE MODEL PARAMETERS\n",
    "        optimizer.step()\n",
    "        \n",
    "        ### LOGGING\n",
    "        if not batch_idx % 150:\n",
    "            print ('Epoch: %03d/%03d | Batch %03d/%03d | Cost: %.4f' \n",
    "                   %(epoch+1, num_epochs, batch_idx, \n",
    "                     len(train_loader), cost))"
   ]
  },
  {
   "cell_type": "markdown",
   "metadata": {},
   "source": [
    "### Sanity checks"
   ]
  },
  {
   "cell_type": "markdown",
   "metadata": {},
   "source": [
    "- Both the levels (converted labels) and logits (model outputs) should have the same dimension: `batch_size x num_classes-1`. In this case, 128 x 9 (since there are 10 classes in MNIST)."
   ]
  },
  {
   "cell_type": "code",
   "execution_count": 15,
   "metadata": {},
   "outputs": [
    {
     "name": "stdout",
     "output_type": "stream",
     "text": [
      "Logits size: torch.Size([128, 9])\n",
      "Levels size: torch.Size([128, 9])\n"
     ]
    }
   ],
   "source": [
    "print(f\"Logits size: {logits.size()}\")\n",
    "print(f\"Levels size: {levels.size()}\")"
   ]
  },
  {
   "cell_type": "markdown",
   "metadata": {},
   "source": [
    "Since the weight parameters are shared among all output tasks, the number of parameters should be equal to the number of input parameters, in this case 294."
   ]
  },
  {
   "cell_type": "code",
   "execution_count": 16,
   "metadata": {},
   "outputs": [
    {
     "name": "stdout",
     "output_type": "stream",
     "text": [
      "Input, params: 294\n",
      "Outputs, params: 1\n"
     ]
    }
   ],
   "source": [
    "print(f\"Input, params: {model.fc.weight.size(1)}\")\n",
    "print(f\"Outputs, params: {model.fc.weight.size(0)}\")"
   ]
  },
  {
   "cell_type": "markdown",
   "metadata": {},
   "source": [
    "The bias should be equal to NUM_CLASSES-1, that is, 9 in this case:"
   ]
  },
  {
   "cell_type": "code",
   "execution_count": 17,
   "metadata": {},
   "outputs": [
    {
     "name": "stdout",
     "output_type": "stream",
     "text": [
      "Number of bias units: torch.Size([9])\n"
     ]
    }
   ],
   "source": [
    "print(f\"Number of bias units: {model.linear_1_bias.size()}\")"
   ]
  },
  {
   "cell_type": "markdown",
   "metadata": {},
   "source": [
    "- The learned bias values of the CORAL layer should now be in descending order:"
   ]
  },
  {
   "cell_type": "code",
   "execution_count": 18,
   "metadata": {},
   "outputs": [
    {
     "data": {
      "text/plain": [
       "Parameter containing:\n",
       "tensor([ 0.8481,  0.8062,  0.7222,  0.4642, -0.0421, -0.4887, -0.7205, -0.8064,\n",
       "        -0.8451], requires_grad=True)"
      ]
     },
     "execution_count": 18,
     "metadata": {},
     "output_type": "execute_result"
    }
   ],
   "source": [
    "model.linear_1_bias"
   ]
  },
  {
   "cell_type": "code",
   "execution_count": 19,
   "metadata": {},
   "outputs": [
    {
     "data": {
      "image/png": "[encoded data removed]",
      "text/plain": [
       "<Figure size 432x288 with 1 Axes>"
      ]
     },
     "metadata": {
      "needs_background": "light"
     },
     "output_type": "display_data"
    }
   ],
   "source": [
    "import matplotlib.pyplot as plt\n",
    "%matplotlib inline\n",
    "\n",
    "plt.plot(model.linear_1_bias.detach().numpy())\n",
    "plt.show()"
   ]
  }
 ],
 "metadata": {
  "kernelspec": {
   "display_name": "Python 3",
   "language": "python",
   "name": "python3"
  },
  "language_info": {
   "codemirror_mode": {
    "name": "ipython",
    "version": 3
   },
   "file_extension": ".py",
   "mimetype": "text/x-python",
   "name": "python",
   "nbconvert_exporter": "python",
   "pygments_lexer": "ipython3",
   "version": "3.7.1"
  }
 },
 "nbformat": 4,
 "nbformat_minor": 4
}
